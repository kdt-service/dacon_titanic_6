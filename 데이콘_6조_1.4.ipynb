{
 "cells": [
  {
   "cell_type": "code",
   "execution_count": null,
   "id": "c60a5615",
   "metadata": {
    "id": "c60a5615"
   },
   "outputs": [],
   "source": [
    "#분석\n",
    "import pandas as pd\n",
    "import numpy as  np\n",
    "import random as rnd"
   ]
  },
  {
   "cell_type": "code",
   "execution_count": null,
   "id": "32ec81e3",
   "metadata": {
    "id": "32ec81e3"
   },
   "outputs": [],
   "source": [
    "# 시각화\n",
    "import seaborn as sns\n",
    "import matplotlib.pyplot as plt"
   ]
  },
  {
   "cell_type": "code",
   "execution_count": null,
   "id": "b2742ab2",
   "metadata": {
    "id": "b2742ab2"
   },
   "outputs": [],
   "source": [
    "#라이브러리\n",
    "from sklearn.linear_model import LogisticRegression\n",
    "from sklearn.svm import SVC, LinearSVC\n",
    "from sklearn.ensemble import RandomForestClassifier\n",
    "from sklearn.neighbors import KNeighborsClassifier\n",
    "from sklearn.naive_bayes import GaussianNB\n",
    "from sklearn.linear_model import Perceptron\n",
    "from sklearn.linear_model import SGDClassifier\n",
    "from sklearn.tree import DecisionTreeClassifier\n",
    "from sklearn.preprocessing import LabelEncoder\n",
    "from sklearn.preprocessing import StandardScaler\n",
    "from sklearn.compose import ColumnTransformer \n",
    "from sklearn.preprocessing import RobustScaler \n",
    "from sklearn.linear_model import LogisticRegression\n",
    "from sklearn.tree import DecisionTreeClassifier\n",
    "from sklearn.ensemble import RandomForestClassifier\n",
    "import xgboost as xgb\n",
    "from sklearn.model_selection import train_test_split"
   ]
  },
  {
   "cell_type": "markdown",
   "id": "cc67cf2c",
   "metadata": {
    "id": "cc67cf2c"
   },
   "source": [
    "### 데이터 불러오기"
   ]
  },
  {
   "cell_type": "markdown",
   "id": "d319502e",
   "metadata": {
    "id": "d319502e"
   },
   "source": [
    "- Survival 생존여부 0=No 1=Yes\n",
    "- pclass 사회-경제적지위 1=1st, 2=2nd, 3=3rd\n",
    "- sex : 성별\n",
    "- Age : 나이\n",
    "- sibsp : 타이타닉호에 탑승한 형제-자매 수\n",
    "- parch ; 타이타닉호에 탑승한 부모-자녀 수\n",
    "- ticket : 티켓번호\n",
    "- fare : 탑승 요금\n",
    "- cabin : 방번호\n",
    "- embarked : 탑승 지역(항구 위치)\n",
    "C = Cherbourg,\n",
    "  Q = Queenstown,\n",
    "S = Southampton"
   ]
  },
  {
   "cell_type": "markdown",
   "id": "fd8671a5",
   "metadata": {
    "id": "fd8671a5"
   },
   "source": [
    "### EDA\n",
    "\n",
    "1. 데이터의 열 별 정보를 확인 (결측치 확인)\n",
    "2. 변수간 상관관계 확인"
   ]
  },
  {
   "cell_type": "code",
   "execution_count": null,
   "id": "185140c3",
   "metadata": {
    "id": "185140c3"
   },
   "outputs": [],
   "source": [
    "train_df = pd.read_csv('./train.csv')\n",
    "test_df = pd.read_csv('./test.csv')"
   ]
  },
  {
   "cell_type": "code",
   "execution_count": null,
   "id": "eb040a5a",
   "metadata": {
    "colab": {
     "base_uri": "https://localhost:8080/",
     "height": 424
    },
    "id": "eb040a5a",
    "outputId": "b0e1cf4d-05db-4f7e-eac9-073fe89dffb0"
   },
   "outputs": [],
   "source": [
    "train_df"
   ]
  },
  {
   "cell_type": "code",
   "execution_count": null,
   "id": "ddf756ec",
   "metadata": {
    "colab": {
     "base_uri": "https://localhost:8080/"
    },
    "id": "ddf756ec",
    "outputId": "a5fab9ff-7dac-4032-c751-ba1dd7e78c05"
   },
   "outputs": [],
   "source": [
    "# type을 알아보기 위해서 작성.\n",
    "train_df.info()"
   ]
  },
  {
   "cell_type": "code",
   "execution_count": null,
   "id": "d75e0fee",
   "metadata": {
    "colab": {
     "base_uri": "https://localhost:8080/",
     "height": 300
    },
    "id": "d75e0fee",
    "outputId": "3ec0642b-c16c-4b88-e40c-7186df6f83eb"
   },
   "outputs": [],
   "source": [
    "#데이터를 요약해서 보기 위해서 작성.\n",
    "train_df.describe() "
   ]
  },
  {
   "cell_type": "code",
   "execution_count": null,
   "id": "eb24301c",
   "metadata": {
    "colab": {
     "base_uri": "https://localhost:8080/"
    },
    "id": "eb24301c",
    "outputId": "a497a655-c174-46b7-8981-cc5de7d86f53"
   },
   "outputs": [],
   "source": [
    "#결측값 확인.\n",
    "print(train_df.isnull().sum())\n",
    "print(train_df.info())"
   ]
  },
  {
   "cell_type": "markdown",
   "id": "fb37e0f2",
   "metadata": {
    "id": "fb37e0f2"
   },
   "source": [
    "#### 데이터 상관관계 확인"
   ]
  },
  {
   "cell_type": "code",
   "execution_count": null,
   "id": "65821b72",
   "metadata": {
    "colab": {
     "base_uri": "https://localhost:8080/"
    },
    "id": "65821b72",
    "outputId": "81f7590a-785a-4f57-cff2-ade25c38b17b"
   },
   "outputs": [],
   "source": [
    "#pclass 통한 생존율 확인\n",
    "train_df.groupby(['Pclass', 'Survived'])['Survived'].count()"
   ]
  },
  {
   "cell_type": "code",
   "execution_count": null,
   "id": "1fc908b4",
   "metadata": {
    "colab": {
     "base_uri": "https://localhost:8080/"
    },
    "id": "1fc908b4",
    "outputId": "e63fe6a4-8061-4e00-813b-78ad9cab17f1"
   },
   "outputs": [],
   "source": [
    " #pclass 높을 수록 생존율 높음 (62.9% vs 47.3% vs 24.2%)\n",
    "train_df.groupby('Pclass')['Survived'].mean()"
   ]
  },
  {
   "cell_type": "code",
   "execution_count": null,
   "id": "49c07b54",
   "metadata": {
    "colab": {
     "base_uri": "https://localhost:8080/"
    },
    "id": "49c07b54",
    "outputId": "0fee3b3d-00e2-421b-c28c-7e7b95d862f3"
   },
   "outputs": [],
   "source": [
    "#성별에 따른 생존 여부\n",
    "train_df.groupby(['Sex','Survived'])['Survived'].count()"
   ]
  },
  {
   "cell_type": "code",
   "execution_count": null,
   "id": "10bee9c1",
   "metadata": {
    "colab": {
     "base_uri": "https://localhost:8080/"
    },
    "id": "10bee9c1",
    "outputId": "bf4047ee-56e7-47f1-a025-245927d67b28"
   },
   "outputs": [],
   "source": [
    "#pclass 높을 수록 fare(탑승 요금) 높음\n",
    "train_df.groupby('Pclass')['Fare'].median() "
   ]
  },
  {
   "cell_type": "code",
   "execution_count": null,
   "id": "55817897",
   "metadata": {
    "colab": {
     "base_uri": "https://localhost:8080/"
    },
    "id": "55817897",
    "outputId": "84621838-5bee-4c68-94e9-b548de866541"
   },
   "outputs": [],
   "source": [
    "#pclass 높을 수록 age 높아짐\n",
    "train_df.groupby('Pclass')['Age'].median()"
   ]
  },
  {
   "cell_type": "code",
   "execution_count": null,
   "id": "22b66549",
   "metadata": {
    "colab": {
     "base_uri": "https://localhost:8080/",
     "height": 269
    },
    "id": "22b66549",
    "outputId": "f7278b0c-4877-42b0-ed77-67cf354d8a81"
   },
   "outputs": [],
   "source": [
    "# 상관관계 분석\n",
    "train_df.corr() "
   ]
  },
  {
   "cell_type": "markdown",
   "id": "1ee12c48",
   "metadata": {
    "id": "1ee12c48"
   },
   "source": [
    "#### 시각화"
   ]
  },
  {
   "cell_type": "code",
   "execution_count": null,
   "id": "d5de6b49",
   "metadata": {
    "colab": {
     "base_uri": "https://localhost:8080/",
     "height": 297
    },
    "id": "d5de6b49",
    "outputId": "9b038695-ec33-468e-a54e-6c350807df9e"
   },
   "outputs": [],
   "source": [
    "#성별에 따른 생존 여부\n",
    "sns.barplot(x=\"Sex\", y=\"Survived\", data=train_df)"
   ]
  },
  {
   "cell_type": "code",
   "execution_count": null,
   "id": "5fd1306b",
   "metadata": {
    "colab": {
     "base_uri": "https://localhost:8080/",
     "height": 297
    },
    "id": "5fd1306b",
    "outputId": "c0881a69-e946-48a3-aedf-9733a5e7c27a"
   },
   "outputs": [],
   "source": [
    "#pclass에 따른 생존률\n",
    "sns.barplot(x='Pclass', y='Survived', data=train_df) "
   ]
  },
  {
   "cell_type": "code",
   "execution_count": null,
   "id": "24115080",
   "metadata": {
    "colab": {
     "base_uri": "https://localhost:8080/",
     "height": 297
    },
    "id": "24115080",
    "outputId": "1da8909e-3365-4257-d1fa-e79e2daac4be"
   },
   "outputs": [],
   "source": [
    "# 성별과 선실에 따른 생존여부 확인\n",
    "sns.barplot(x='Sex', y='Survived', hue='Pclass', data=train_df)"
   ]
  },
  {
   "cell_type": "code",
   "execution_count": null,
   "id": "00d61862",
   "metadata": {
    "colab": {
     "base_uri": "https://localhost:8080/",
     "height": 297
    },
    "id": "00d61862",
    "outputId": "c993ee32-0674-4a8d-da95-f37ac19ad1d3"
   },
   "outputs": [],
   "source": [
    "# 선착지에에 따른 생존여부 확인.\n",
    "sns.barplot(x='Embarked', y='Survived', data=train_df)\n",
    "#Southampton이 생존율이 제일 낮은 것을 확인."
   ]
  },
  {
   "cell_type": "code",
   "execution_count": null,
   "id": "131c8aac",
   "metadata": {
    "colab": {
     "base_uri": "https://localhost:8080/",
     "height": 225
    },
    "id": "131c8aac",
    "outputId": "5993d3e5-432b-4e89-f296-5f41e28b3be6"
   },
   "outputs": [],
   "source": [
    "# 나이에 따른 생존률 \n",
    "grid = sns.FacetGrid(train_df, col='Survived')\n",
    "grid.map(plt.hist, 'Age', alpha=0.5, bins=20)\n",
    "grid.add_legend()\n",
    "plt.show() \n",
    "#어린 아이들의 생존률이 높음"
   ]
  },
  {
   "cell_type": "code",
   "execution_count": null,
   "id": "4475ae3b",
   "metadata": {
    "colab": {
     "base_uri": "https://localhost:8080/",
     "height": 225
    },
    "id": "4475ae3b",
    "outputId": "deb66c1b-8451-4c17-c6fa-150528c016e7"
   },
   "outputs": [],
   "source": [
    "#나이에 따른 pclass 분포 확인\n",
    "grid = sns.FacetGrid(train_df, col='Pclass')\n",
    "grid.map(plt.hist, 'Age', alpha=0.5, bins=20)\n",
    "grid.add_legend()\n",
    "plt.show() \n",
    "# 각 pclass는 나이대 분포가 다양함"
   ]
  },
  {
   "cell_type": "code",
   "execution_count": null,
   "id": "19002e72",
   "metadata": {
    "colab": {
     "base_uri": "https://localhost:8080/",
     "height": 657
    },
    "id": "19002e72",
    "outputId": "51fc44cd-7fbe-435f-ae5f-92d748fed361"
   },
   "outputs": [],
   "source": [
    "#Survived와 Pclass에 따른 Age 분포 확인 \n",
    "grid = sns.FacetGrid(train_df, col=\"Survived\", row=\"Pclass\")\n",
    "grid.map(plt.hist, 'Age', alpha = .5, bins=20)\n",
    "grid.add_legend(); \n",
    "#Pclass=2 에 탄 어린아이들의 survived 확률이 높음"
   ]
  },
  {
   "cell_type": "code",
   "execution_count": null,
   "id": "e39d4ce6",
   "metadata": {
    "colab": {
     "base_uri": "https://localhost:8080/",
     "height": 555
    },
    "id": "e39d4ce6",
    "outputId": "c9dd5eb0-f75d-4a0a-c18b-85c58c216231"
   },
   "outputs": [],
   "source": [
    "#칼럼 간 상관관계 시각화\n",
    "plt.figure(figsize=(8, 8))\n",
    "sns.heatmap(data=train_df.corr(), annot=True)"
   ]
  },
  {
   "cell_type": "markdown",
   "id": "7a0af669",
   "metadata": {
    "id": "7a0af669"
   },
   "source": [
    "### 전처리"
   ]
  },
  {
   "cell_type": "markdown",
   "id": "82791e4c",
   "metadata": {
    "id": "82791e4c"
   },
   "source": [
    "#### (1) Age 전처리"
   ]
  },
  {
   "cell_type": "code",
   "execution_count": null,
   "id": "64001e4f",
   "metadata": {
    "colab": {
     "base_uri": "https://localhost:8080/"
    },
    "id": "64001e4f",
    "outputId": "538f150b-b834-4875-cfd8-cb920270cb14"
   },
   "outputs": [],
   "source": [
    "# Title 변수 생성\n",
    "\n",
    "train_df['Title'] = train_df['Name'].str.extract(' ([A-Za-z]+)\\.', expand=False) \n",
    "train_df['Title'].value_counts()"
   ]
  },
  {
   "cell_type": "code",
   "execution_count": null,
   "id": "e878e73b",
   "metadata": {
    "colab": {
     "base_uri": "https://localhost:8080/",
     "height": 206
    },
    "id": "e878e73b",
    "outputId": "d2c5c5ca-fdf7-4040-fed4-2562faded88b"
   },
   "outputs": [],
   "source": [
    "name_mapping = {\"Mr\": 0, \"Miss\": 1, \"Mrs\": 2, \"Master\": 3, \"Dr\": 4, \"Rev\": 4, \"Col\": 4, \"Major\": 4, \"Mlle\": 4,\"Countess\": 4, \"Ms\": 4, \"Lady\": 4, \"Jonkheer\": 4, \"Don\": 4, \"Dona\" : 4, \"Mme\": 4,\"Capt\": 4,\"Sir\": 4 } \n",
    "\n",
    "x_data_test = [train_df]\n",
    "for dataset in x_data_test : \n",
    "    dataset['Title'] = dataset['Title'].map(name_mapping) \n",
    "\n",
    "train_df.head()"
   ]
  },
  {
   "cell_type": "code",
   "execution_count": null,
   "id": "0d0c35ad",
   "metadata": {
    "colab": {
     "base_uri": "https://localhost:8080/",
     "height": 238
    },
    "id": "0d0c35ad",
    "outputId": "bce9eea5-620b-4bb3-f4e5-0eb4115bfbf7"
   },
   "outputs": [],
   "source": [
    "train_df.groupby(['Title']).mean()"
   ]
  },
  {
   "cell_type": "code",
   "execution_count": null,
   "id": "16dacd57",
   "metadata": {
    "id": "16dacd57"
   },
   "outputs": [],
   "source": [
    "# Age 결측값에 Title에 따른 평균값 넣음\n",
    "\n",
    "train_df.loc[(train_df.Age.isnull())&(train_df.Title==0),'Age']=32\n",
    "train_df.loc[(train_df.Age.isnull())&(train_df.Title==1),'Age']=22\n",
    "train_df.loc[(train_df.Age.isnull())&(train_df.Title==2),'Age']=36\n",
    "train_df.loc[(train_df.Age.isnull())&(train_df.Title==3),'Age']=5\n",
    "train_df.loc[(train_df.Age.isnull())&(train_df.Title==4),'Age']=30"
   ]
  },
  {
   "cell_type": "markdown",
   "id": "86b17584",
   "metadata": {
    "id": "86b17584"
   },
   "source": [
    "#### (2) Sex 전처리"
   ]
  },
  {
   "cell_type": "code",
   "execution_count": null,
   "id": "a713c224",
   "metadata": {
    "colab": {
     "base_uri": "https://localhost:8080/",
     "height": 424
    },
    "id": "a713c224",
    "outputId": "7b577734-afb4-48b4-ee9b-a0d5109fd610"
   },
   "outputs": [],
   "source": [
    "# male 값 : 0 female 값: 1로 설정 \n",
    "train_df['Sex'] = train_df['Sex'].map({'male':0,\n",
    "                                       'female':1})\n",
    "\n",
    "train_df"
   ]
  },
  {
   "cell_type": "markdown",
   "id": "16f1e21f",
   "metadata": {
    "id": "16f1e21f"
   },
   "source": [
    "#### (3) Embarked 전처리"
   ]
  },
  {
   "cell_type": "code",
   "execution_count": null,
   "id": "f14689b2",
   "metadata": {
    "colab": {
     "base_uri": "https://localhost:8080/",
     "height": 424
    },
    "id": "f14689b2",
    "outputId": "d9f4ce26-638a-447b-a9b1-aeb6ce007eb9"
   },
   "outputs": [],
   "source": [
    "# Southampton:0, Cherbourg:1, Queenstown:2\n",
    "train_df['Embarked'] = train_df['Embarked'].map({'S':0,\n",
    "                                                'C':1,\n",
    "                                                'Q':2})\n",
    "\n",
    "train_df"
   ]
  },
  {
   "cell_type": "code",
   "execution_count": null,
   "id": "3a47727f",
   "metadata": {
    "id": "3a47727f"
   },
   "outputs": [],
   "source": [
    "#Embarked 결측치 2개니까 삭제 or 중앙값 대체.\n",
    "#train_df = train_df.dropna()\n",
    "train_df['Embarked'].fillna(train_df[\"Embarked\"].median(), inplace=True)"
   ]
  },
  {
   "cell_type": "code",
   "execution_count": null,
   "id": "3b716627",
   "metadata": {
    "colab": {
     "base_uri": "https://localhost:8080/"
    },
    "id": "3b716627",
    "outputId": "e25a6ff2-b9d4-40f6-e6fd-2253f4953b0b"
   },
   "outputs": [],
   "source": [
    "#유니크 값 확인.\n",
    "train_df['Embarked'].unique()"
   ]
  },
  {
   "cell_type": "code",
   "execution_count": null,
   "id": "eab8a8cc",
   "metadata": {},
   "outputs": [],
   "source": [
    "# fare 4 구간으로 나누기, 연속형 변수 였던 fare을 범주형 변수로 전환\n",
    "train_df['FareBand'] = pd.qcut(train_df['Fare'], 4, labels = [1, 2, 3, 4])\n",
    "test_df['Fare'].fillna(test_df[\"Fare\"].median(), inplace = True)\n",
    "test_df['FareBand'] = pd.qcut(test_df['Fare'], 4, labels = [1, 2, 3, 4])"
   ]
  },
  {
   "cell_type": "code",
   "execution_count": null,
   "id": "3955c05c",
   "metadata": {},
   "outputs": [],
   "source": [
    "train_df['FareBand'] = train_df['FareBand'].astype(int)\n",
    "test_df['FareBand'] = test_df['FareBand'].astype(int)"
   ]
  },
  {
   "cell_type": "code",
   "execution_count": null,
   "id": "32920497",
   "metadata": {},
   "outputs": [],
   "source": [
    "test_df"
   ]
  },
  {
   "cell_type": "code",
   "execution_count": null,
   "id": "7f208c6f",
   "metadata": {
    "id": "7f208c6f"
   },
   "outputs": [],
   "source": [
    "# Cabin, Ticket, Name 드랍"
   ]
  },
  {
   "cell_type": "markdown",
   "id": "28f649e6",
   "metadata": {
    "id": "28f649e6"
   },
   "source": [
    "#### 결측값 확인"
   ]
  },
  {
   "cell_type": "code",
   "execution_count": null,
   "id": "7d29473c",
   "metadata": {
    "colab": {
     "base_uri": "https://localhost:8080/"
    },
    "id": "7d29473c",
    "outputId": "2ce831fd-dfbd-45bc-e330-60f6d9752a07",
    "scrolled": true
   },
   "outputs": [],
   "source": [
    "print(train_df.isnull().sum())"
   ]
  },
  {
   "cell_type": "markdown",
   "id": "b9728b8f",
   "metadata": {
    "id": "b9728b8f"
   },
   "source": [
    "##### 모델링 전 확인"
   ]
  },
  {
   "cell_type": "code",
   "execution_count": null,
   "id": "37d005cd",
   "metadata": {
    "colab": {
     "base_uri": "https://localhost:8080/"
    },
    "id": "37d005cd",
    "outputId": "2f60e299-d5db-4525-c8d7-3487bc677d54"
   },
   "outputs": [],
   "source": [
    "train_df.columns"
   ]
  },
  {
   "cell_type": "code",
   "execution_count": null,
   "id": "5175bf5d",
   "metadata": {
    "id": "5175bf5d"
   },
   "outputs": [],
   "source": [
    "sds = StandardScaler()\n",
    "numeric_columns = ['Pclass', 'Age', 'Parch', 'Fare','Sex','Embarked', 'SibSp']\n",
    "\n",
    "train_df_norm = sds.fit_transform(train_df[numeric_columns])"
   ]
  },
  {
   "cell_type": "code",
   "execution_count": null,
   "id": "3a35d680",
   "metadata": {
    "colab": {
     "base_uri": "https://localhost:8080/"
    },
    "id": "3a35d680",
    "outputId": "b1fd3b3d-b299-419c-b48b-e8c834bf586f"
   },
   "outputs": [],
   "source": [
    "train_df_norm.shape"
   ]
  },
  {
   "cell_type": "markdown",
   "id": "4ca7cc33",
   "metadata": {
    "id": "4ca7cc33"
   },
   "source": [
    "### 모델링\n",
    "\n",
    "1. Logistic Regression (로지스틱 회귀)\n",
    "2. Decision Tree (의사결정 나무)\n",
    "3. Random Forest (랜덤포레스트)\n",
    "4. XGBoost (XGBoost)"
   ]
  },
  {
   "cell_type": "code",
   "execution_count": null,
   "id": "8498007e",
   "metadata": {
    "id": "8498007e"
   },
   "outputs": [],
   "source": [
    "model_lr = LogisticRegression()\n",
    "model_dt = DecisionTreeClassifier(criterion = 'entropy', max_depth = 1, random_state = 0)\n",
    "model_rf = RandomForestClassifier(n_estimators = 8, random_state = 0)\n",
    "model_xgb = xgb.XGBClassifier()"
   ]
  },
  {
   "cell_type": "markdown",
   "id": "6809d9d6",
   "metadata": {
    "id": "6809d9d6"
   },
   "source": [
    "### 학습\n",
    "1. 학습데이터에서 독립변수와 종속변수와를 구분하고 모델을 학습."
   ]
  },
  {
   "cell_type": "code",
   "execution_count": null,
   "id": "fd81b940",
   "metadata": {
    "id": "fd81b940"
   },
   "outputs": [],
   "source": [
    "train_x, valid_x, train_y, valid_y = train_test_split(train_df[numeric_columns], train_df['Survived'], \n",
    "                                                        test_size=0.2, shuffle=True)"
   ]
  },
  {
   "cell_type": "code",
   "execution_count": null,
   "id": "f081ab91",
   "metadata": {
    "colab": {
     "base_uri": "https://localhost:8080/",
     "height": 395
    },
    "id": "f081ab91",
    "outputId": "4aa74560-e571-40f8-d835-c71bb3acbdf9"
   },
   "outputs": [],
   "source": [
    "model_lr.fit(train_x, train_y)\n",
    "model_dt.fit(train_x, train_y)\n",
    "model_rf.fit(train_x, train_y)\n",
    "model_xgb.fit(train_x, train_y)"
   ]
  },
  {
   "cell_type": "code",
   "execution_count": null,
   "id": "82a0d682",
   "metadata": {
    "colab": {
     "base_uri": "https://localhost:8080/"
    },
    "id": "82a0d682",
    "outputId": "98ee9a44-4553-4490-f43c-2d326035dea8"
   },
   "outputs": [],
   "source": [
    "#Linear Regression\n",
    "print('train score : {:.3f}'.format(model_lr.score(train_x, train_y)))\n",
    "print('test socre : {:.3f}'.format(model_lr.score(valid_x, valid_y)))"
   ]
  },
  {
   "cell_type": "code",
   "execution_count": null,
   "id": "f7423c5b",
   "metadata": {
    "colab": {
     "base_uri": "https://localhost:8080/"
    },
    "id": "f7423c5b",
    "outputId": "bf8d9cdd-218d-45d8-ab7f-2034df453646"
   },
   "outputs": [],
   "source": [
    "#Decision Ttree\n",
    "print('train score : {:.3f}'.format(model_dt.score(train_x, train_y)))\n",
    "print('test socre : {:.3f}'.format(model_dt.score(valid_x, valid_y)))"
   ]
  },
  {
   "cell_type": "code",
   "execution_count": null,
   "id": "ca8073f1",
   "metadata": {
    "colab": {
     "base_uri": "https://localhost:8080/"
    },
    "id": "ca8073f1",
    "outputId": "f22c4b3a-18ef-4a43-d946-0870aabef47b"
   },
   "outputs": [],
   "source": [
    "#Random Forest\n",
    "print('train score : {:.3f}'.format(model_rf.score(train_x, train_y)))\n",
    "print('test socre : {:.3f}'.format(model_rf.score(valid_x, valid_y)))"
   ]
  },
  {
   "cell_type": "code",
   "execution_count": null,
   "id": "e7352373",
   "metadata": {
    "colab": {
     "base_uri": "https://localhost:8080/"
    },
    "id": "e7352373",
    "outputId": "865a61c8-428d-40c6-9e00-fc9883de6633"
   },
   "outputs": [],
   "source": [
    "#XGB\n",
    "print('train score : {:.3f}'.format(model_xgb.score(train_x, train_y)))\n",
    "print('test socre : {:.3f}'.format(model_xgb.score(valid_x, valid_y)))"
   ]
  },
  {
   "cell_type": "markdown",
   "id": "144ee59e",
   "metadata": {
    "id": "144ee59e"
   },
   "source": [
    "### 테스트"
   ]
  },
  {
   "cell_type": "code",
   "execution_count": null,
   "id": "91c22a4f",
   "metadata": {
    "colab": {
     "base_uri": "https://localhost:8080/"
    },
    "id": "91c22a4f",
    "outputId": "ca5e2e40-8ebf-4e36-90dd-a638e1f61efd"
   },
   "outputs": [],
   "source": [
    "test_df = pd.read_csv(f\"./test.csv\", index_col=0)\n",
    "\n",
    "print(test_df.isnull().sum())\n",
    "print(test_df.info())"
   ]
  },
  {
   "cell_type": "code",
   "execution_count": null,
   "id": "829c93c9",
   "metadata": {
    "id": "829c93c9"
   },
   "outputs": [],
   "source": [
    "# Title 변수 생성\n",
    "\n",
    "test_df['Title'] = test_df['Name'].str.extract(' ([A-Za-z]+)\\.', expand=False)\n",
    "\n",
    "name_mapping = {\"Mr\": 0, \"Miss\": 1, \"Mrs\": 2, \"Master\": 3, \"Dr\": 4, \"Rev\": 4, \"Col\": 4, \"Major\": 4, \"Mlle\": 4,\"Countess\": 4, \"Ms\": 4, \"Lady\": 4, \"Jonkheer\": 4, \"Don\": 4, \"Dona\" : 4, \"Mme\": 4,\"Capt\": 4,\"Sir\": 4 } \n",
    "\n",
    "x_data_test = [test_df]\n",
    "for dataset in x_data_test : \n",
    "    dataset['Title'] = dataset['Title'].map(name_mapping) \n",
    "\n",
    "# Age 결측값에 Title에 따른 평균값 넣음\n",
    "\n",
    "test_df.loc[(test_df.Age.isnull())&(test_df.Title==0),'Age']=32\n",
    "test_df.loc[(test_df.Age.isnull())&(test_df.Title==1),'Age']=22\n",
    "test_df.loc[(test_df.Age.isnull())&(test_df.Title==2),'Age']=36\n",
    "test_df.loc[(test_df.Age.isnull())&(test_df.Title==3),'Age']=5\n",
    "test_df.loc[(test_df.Age.isnull())&(test_df.Title==4),'Age']=30\n",
    "\n",
    "test_df['Sex'] = test_df['Sex'].map({'male':0, 'female':1})\n",
    "test_df['Embarked'] = test_df['Embarked'].map({'S':0, 'C':1, 'Q':2})\n",
    "test_df['Fare'].fillna(test_df[\"Fare\"].median(), inplace=True)"
   ]
  },
  {
   "cell_type": "code",
   "execution_count": null,
   "id": "ff820d88",
   "metadata": {
    "colab": {
     "base_uri": "https://localhost:8080/",
     "height": 455
    },
    "id": "ff820d88",
    "outputId": "805566a8-b575-47ac-bb31-d8847e6523c7"
   },
   "outputs": [],
   "source": [
    "test_df"
   ]
  },
  {
   "cell_type": "code",
   "execution_count": null,
   "id": "9df20190",
   "metadata": {
    "id": "9df20190"
   },
   "outputs": [],
   "source": [
    "y_pred = model_lr.predict(test_df[numeric_columns])"
   ]
  },
  {
   "cell_type": "code",
   "execution_count": null,
   "id": "f6675a4e",
   "metadata": {
    "colab": {
     "base_uri": "https://localhost:8080/"
    },
    "id": "f6675a4e",
    "outputId": "e1d8b33b-bb49-436f-bd46-cbe618f1678f"
   },
   "outputs": [],
   "source": [
    "y_pred"
   ]
  },
  {
   "cell_type": "code",
   "execution_count": null,
   "id": "e5be960e",
   "metadata": {
    "id": "e5be960e"
   },
   "outputs": [],
   "source": [
    "df_submission = pd.read_csv(f\"./submission.csv\")\n",
    "df_submission['Survived'] = y_pred\n",
    "df_submission.to_csv('submission_1.csv', index=False)"
   ]
  }
 ],
 "metadata": {
  "colab": {
   "provenance": []
  },
  "kernelspec": {
   "display_name": "Python 3 (ipykernel)",
   "language": "python",
   "name": "python3"
  },
  "language_info": {
   "codemirror_mode": {
    "name": "ipython",
    "version": 3
   },
   "file_extension": ".py",
   "mimetype": "text/x-python",
   "name": "python",
   "nbconvert_exporter": "python",
   "pygments_lexer": "ipython3",
   "version": "3.9.7"
  }
 },
 "nbformat": 4,
 "nbformat_minor": 5
}
